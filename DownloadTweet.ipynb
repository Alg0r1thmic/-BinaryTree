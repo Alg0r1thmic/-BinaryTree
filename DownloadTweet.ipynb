{
  "nbformat": 4,
  "nbformat_minor": 0,
  "metadata": {
    "colab": {
      "name": "DownloadTweet.ipynb",
      "provenance": [],
      "collapsed_sections": [],
      "toc_visible": true,
      "include_colab_link": true
    },
    "kernelspec": {
      "name": "python3",
      "display_name": "Python 3"
    }
  },
  "cells": [
    {
      "cell_type": "markdown",
      "metadata": {
        "id": "view-in-github",
        "colab_type": "text"
      },
      "source": [
        "<a href=\"https://colab.research.google.com/github/Alg0r1thmic/-BinaryTree/blob/master/DownloadTweet.ipynb\" target=\"_parent\"><img src=\"https://colab.research.google.com/assets/colab-badge.svg\" alt=\"Open In Colab\"/></a>"
      ]
    },
    {
      "cell_type": "code",
      "metadata": {
        "id": "AqydMFJ5xqMN",
        "colab_type": "code",
        "colab": {}
      },
      "source": [
        "from google.colab import drive\n",
        "drive.mount('/content/drive')"
      ],
      "execution_count": null,
      "outputs": []
    },
    {
      "cell_type": "code",
      "metadata": {
        "id": "r9i5KCIUk5XP",
        "colab_type": "code",
        "colab": {}
      },
      "source": [
        "import tweepy\n",
        "import datetime\n",
        "import sys\n",
        "\n",
        "API_key = 'dgeI7HnupuGL4lDFRIbTobAzk' \n",
        "API_secret_key = 'ZhO2nirv1wMqq9RqW0DlvcqU79Pq3bz5FNqC13hRxuUZQoGgjd'\n",
        "Access_token = '975491031478296577-tXQ3jTJUGubeWlrdpwqg6CKGLKeKvhv'\n",
        "Access_token_secret = '9W1d0VBuQMC4VgE0At2JruncQS4KUioK4uVq7HXTfkM97'\n",
        "\n",
        "auth = tweepy.OAuthHandler(API_key, API_secret_key)\n",
        "auth.set_access_token(Access_token, Access_token_secret)\n",
        "\n",
        "api = tweepy.API(auth)\n",
        "\n",
        "#now the data is collected in the data.txt file"
      ],
      "execution_count": null,
      "outputs": []
    },
    {
      "cell_type": "code",
      "metadata": {
        "id": "vF0NNmHaCse5",
        "colab_type": "code",
        "colab": {}
      },
      "source": [
        "!rm *.tsv\n"
      ],
      "execution_count": null,
      "outputs": []
    },
    {
      "cell_type": "code",
      "metadata": {
        "id": "rXh7_1WwxKHJ",
        "colab_type": "code",
        "colab": {}
      },
      "source": [
        "file = open('data.txt', 'w')\n",
        "n = 0\n",
        "tweets_1 = tweepy.Cursor(api.search, q = 'COVID-19').items(1000)\n",
        "print(tweets_1)\n",
        "for tweet in tweets_1:\n",
        "  n=n+1\n",
        "  file.write('COVID-19,')\n",
        "  file.write(str(n)+',')\n",
        "  file.write(str(tweet.id)+',')\n",
        "  file.write(str(tweet.author.name)+',')\n",
        "  # file.write(tweet,username+','),\n",
        "  file.write(str(tweet.created_at)+',')\n",
        "  file.write(tweet.text)\n",
        "  file.write('\\n\\n')\n",
        "  print()"
      ],
      "execution_count": null,
      "outputs": []
    },
    {
      "cell_type": "markdown",
      "metadata": {
        "id": "UZwmjdCj0Ugi",
        "colab_type": "text"
      },
      "source": [
        "## Download tweet"
      ]
    },
    {
      "cell_type": "code",
      "metadata": {
        "id": "n2awuNLCDU2t",
        "colab_type": "code",
        "colab": {
          "base_uri": "https://localhost:8080/",
          "height": 33
        },
        "outputId": "20b329a0-14cb-411f-8393-a882c0c855b3"
      },
      "source": [
        "import csv\n",
        "import tweepy\n",
        "import ssl\n",
        "import datetime\n",
        "ssl._create_default_https_context = ssl._create_unverified_context\n",
        "\n",
        "# Oauth keys\n",
        "consumer_key = \"JafJoAMSCwUZoliYTZyVaIBfQ\"\n",
        "consumer_secret = \"0oORIdmX9TgXqcVM0Whl7KhbfJKiDWMhCxtHIcrcZLwoGdppYd\"\n",
        "access_token = \"975491031478296577-K88CwhvceLRF6loLdgKup1j2vfv7TKc\"\n",
        "access_token_secret = \"JrGJVYBXBkRptlrjskBIHRoWhhpSKC3bRZYsa7RklBuzJ\"\n",
        "\n",
        "# Authentication with Twitter\n",
        "auth = tweepy.OAuthHandler(consumer_key, consumer_secret)\n",
        "auth.set_access_token(access_token, access_token_secret)\n",
        "api = tweepy.API(auth)\n",
        "\n",
        "# update these for the tweet you want to process replies to 'name' = the account username and you can find the tweet id within the tweet URL\n",
        "t_name = 'LuisSeminario94'\n",
        "t_tweet_id = '1290681068866228224'\n",
        "original_tweet = api.statuses_lookup([t_tweet_id]) # id_list is the list of tweet ids\n",
        "print(original_tweet[0].user.screen_name)\n",
        "# tweet=tweepy.Cursor(api.search,q='to'+name).items(1000)\n",
        "# if hasattr(tweet, 'in_reply_to_status_id_str'):\n",
        "#   print(original_tweet[0].text)\n",
        "startDate = datetime.datetime(2020,1, 1, 0, 0, 0)\n",
        "endDate =   datetime.datetime(2020,8, 12, 0, 0, 0)\n",
        "replies=[]\n",
        "for tweet in tweepy.Cursor(api.search,q='to:'+t_name,tweet_mode='extended').items(1000):\n",
        "  if hasattr(tweet, 'in_reply_to_status_id_str'):\n",
        "    if (tweet.in_reply_to_status_id_str==t_tweet_id):\n",
        "      replies.append(tweet)\n",
        "with open(t_name+t_tweet_id+'.tsv', 'w') as f:\n",
        "    csv_writer = csv.DictWriter(f,delimiter='\\t', fieldnames=('user-id', 'text','topic','thread-id','time','post-id','replyTo','replyBy'))\n",
        "    csv_writer.writeheader()\n",
        "    n=1\n",
        "    row = {'topic':'Cuestion-de-confianza','thread-id':n,'post-id':original_tweet[0].id,'user-id': t_name,'time':original_tweet[0].created_at,'text': original_tweet[0].text,'replyTo':'','replyBy':original_tweet[0].user.screen_name}\n",
        "    csv_writer.writerow(row)    \n",
        "    for tweet in replies:\n",
        "        row = {'topic':'Cuestion-de-confianza','thread-id':n,'post-id':tweet.id,'user-id': tweet.user.screen_name,'time':tweet.created_at,'text': tweet.full_text,'replyTo':original_tweet[0].user.screen_name,'replyBy':tweet.user.screen_name}\n",
        "        csv_writer.writerow(row)"
      ],
      "execution_count": null,
      "outputs": [
        {
          "output_type": "stream",
          "text": [
            "LuisSeminario94\n"
          ],
          "name": "stdout"
        }
      ]
    },
    {
      "cell_type": "code",
      "metadata": {
        "id": "VLXPtY5T2_KN",
        "colab_type": "code",
        "colab": {
          "base_uri": "https://localhost:8080/",
          "height": 339
        },
        "outputId": "2bb1740e-72ab-42b8-e3c6-da0863d907c1"
      },
      "source": [
        "\n",
        "for tweet in tweepy.Cursor(api.search,q = \"google\",since = \"2020-07-01\",until = \"2020-07-03\",lang = \"en\").items():\n",
        "  print(tweet.created_at)"
      ],
      "execution_count": null,
      "outputs": [
        {
          "output_type": "error",
          "ename": "TweepError",
          "evalue": "ignored",
          "traceback": [
            "\u001b[0;31m---------------------------------------------------------------------------\u001b[0m",
            "\u001b[0;31mTweepError\u001b[0m                                Traceback (most recent call last)",
            "\u001b[0;32m<ipython-input-69-219263512e4b>\u001b[0m in \u001b[0;36m<module>\u001b[0;34m()\u001b[0m\n\u001b[1;32m      1\u001b[0m \u001b[0;34m\u001b[0m\u001b[0m\n\u001b[0;32m----> 2\u001b[0;31m \u001b[0;32mfor\u001b[0m \u001b[0mtweet\u001b[0m \u001b[0;32min\u001b[0m \u001b[0mtweepy\u001b[0m\u001b[0;34m.\u001b[0m\u001b[0mCursor\u001b[0m\u001b[0;34m(\u001b[0m\u001b[0mapi\u001b[0m\u001b[0;34m.\u001b[0m\u001b[0msearch\u001b[0m\u001b[0;34m,\u001b[0m\u001b[0mq\u001b[0m \u001b[0;34m=\u001b[0m \u001b[0;34m\"google\"\u001b[0m\u001b[0;34m,\u001b[0m\u001b[0msince\u001b[0m \u001b[0;34m=\u001b[0m \u001b[0;34m\"2020-07-01\"\u001b[0m\u001b[0;34m,\u001b[0m\u001b[0muntil\u001b[0m \u001b[0;34m=\u001b[0m \u001b[0;34m\"2020-07-03\"\u001b[0m\u001b[0;34m,\u001b[0m\u001b[0mlang\u001b[0m \u001b[0;34m=\u001b[0m \u001b[0;34m\"en\"\u001b[0m\u001b[0;34m)\u001b[0m\u001b[0;34m.\u001b[0m\u001b[0mitems\u001b[0m\u001b[0;34m(\u001b[0m\u001b[0;34m)\u001b[0m\u001b[0;34m:\u001b[0m\u001b[0;34m\u001b[0m\u001b[0;34m\u001b[0m\u001b[0m\n\u001b[0m\u001b[1;32m      3\u001b[0m   \u001b[0mprint\u001b[0m\u001b[0;34m(\u001b[0m\u001b[0mtweet\u001b[0m\u001b[0;34m.\u001b[0m\u001b[0mcreated_at\u001b[0m\u001b[0;34m)\u001b[0m\u001b[0;34m\u001b[0m\u001b[0;34m\u001b[0m\u001b[0m\n",
            "\u001b[0;32m/usr/local/lib/python3.6/dist-packages/tweepy/cursor.py\u001b[0m in \u001b[0;36m__next__\u001b[0;34m(self)\u001b[0m\n\u001b[1;32m     47\u001b[0m \u001b[0;34m\u001b[0m\u001b[0m\n\u001b[1;32m     48\u001b[0m     \u001b[0;32mdef\u001b[0m \u001b[0m__next__\u001b[0m\u001b[0;34m(\u001b[0m\u001b[0mself\u001b[0m\u001b[0;34m)\u001b[0m\u001b[0;34m:\u001b[0m\u001b[0;34m\u001b[0m\u001b[0;34m\u001b[0m\u001b[0m\n\u001b[0;32m---> 49\u001b[0;31m         \u001b[0;32mreturn\u001b[0m \u001b[0mself\u001b[0m\u001b[0;34m.\u001b[0m\u001b[0mnext\u001b[0m\u001b[0;34m(\u001b[0m\u001b[0;34m)\u001b[0m\u001b[0;34m\u001b[0m\u001b[0;34m\u001b[0m\u001b[0m\n\u001b[0m\u001b[1;32m     50\u001b[0m \u001b[0;34m\u001b[0m\u001b[0m\n\u001b[1;32m     51\u001b[0m     \u001b[0;32mdef\u001b[0m \u001b[0mnext\u001b[0m\u001b[0;34m(\u001b[0m\u001b[0mself\u001b[0m\u001b[0;34m)\u001b[0m\u001b[0;34m:\u001b[0m\u001b[0;34m\u001b[0m\u001b[0;34m\u001b[0m\u001b[0m\n",
            "\u001b[0;32m/usr/local/lib/python3.6/dist-packages/tweepy/cursor.py\u001b[0m in \u001b[0;36mnext\u001b[0;34m(self)\u001b[0m\n\u001b[1;32m    195\u001b[0m         \u001b[0;32mif\u001b[0m \u001b[0mself\u001b[0m\u001b[0;34m.\u001b[0m\u001b[0mcurrent_page\u001b[0m \u001b[0;32mis\u001b[0m \u001b[0;32mNone\u001b[0m \u001b[0;32mor\u001b[0m \u001b[0mself\u001b[0m\u001b[0;34m.\u001b[0m\u001b[0mpage_index\u001b[0m \u001b[0;34m==\u001b[0m \u001b[0mlen\u001b[0m\u001b[0;34m(\u001b[0m\u001b[0mself\u001b[0m\u001b[0;34m.\u001b[0m\u001b[0mcurrent_page\u001b[0m\u001b[0;34m)\u001b[0m \u001b[0;34m-\u001b[0m \u001b[0;36m1\u001b[0m\u001b[0;34m:\u001b[0m\u001b[0;34m\u001b[0m\u001b[0;34m\u001b[0m\u001b[0m\n\u001b[1;32m    196\u001b[0m             \u001b[0;31m# Reached end of current page, get the next page...\u001b[0m\u001b[0;34m\u001b[0m\u001b[0;34m\u001b[0m\u001b[0;34m\u001b[0m\u001b[0m\n\u001b[0;32m--> 197\u001b[0;31m             \u001b[0mself\u001b[0m\u001b[0;34m.\u001b[0m\u001b[0mcurrent_page\u001b[0m \u001b[0;34m=\u001b[0m \u001b[0mself\u001b[0m\u001b[0;34m.\u001b[0m\u001b[0mpage_iterator\u001b[0m\u001b[0;34m.\u001b[0m\u001b[0mnext\u001b[0m\u001b[0;34m(\u001b[0m\u001b[0;34m)\u001b[0m\u001b[0;34m\u001b[0m\u001b[0;34m\u001b[0m\u001b[0m\n\u001b[0m\u001b[1;32m    198\u001b[0m             \u001b[0mself\u001b[0m\u001b[0;34m.\u001b[0m\u001b[0mpage_index\u001b[0m \u001b[0;34m=\u001b[0m \u001b[0;34m-\u001b[0m\u001b[0;36m1\u001b[0m\u001b[0;34m\u001b[0m\u001b[0;34m\u001b[0m\u001b[0m\n\u001b[1;32m    199\u001b[0m         \u001b[0mself\u001b[0m\u001b[0;34m.\u001b[0m\u001b[0mpage_index\u001b[0m \u001b[0;34m+=\u001b[0m \u001b[0;36m1\u001b[0m\u001b[0;34m\u001b[0m\u001b[0;34m\u001b[0m\u001b[0m\n",
            "\u001b[0;32m/usr/local/lib/python3.6/dist-packages/tweepy/cursor.py\u001b[0m in \u001b[0;36mnext\u001b[0;34m(self)\u001b[0m\n\u001b[1;32m    106\u001b[0m \u001b[0;34m\u001b[0m\u001b[0m\n\u001b[1;32m    107\u001b[0m         \u001b[0;32mif\u001b[0m \u001b[0mself\u001b[0m\u001b[0;34m.\u001b[0m\u001b[0mindex\u001b[0m \u001b[0;34m>=\u001b[0m \u001b[0mlen\u001b[0m\u001b[0;34m(\u001b[0m\u001b[0mself\u001b[0m\u001b[0;34m.\u001b[0m\u001b[0mresults\u001b[0m\u001b[0;34m)\u001b[0m \u001b[0;34m-\u001b[0m \u001b[0;36m1\u001b[0m\u001b[0;34m:\u001b[0m\u001b[0;34m\u001b[0m\u001b[0;34m\u001b[0m\u001b[0m\n\u001b[0;32m--> 108\u001b[0;31m             \u001b[0mdata\u001b[0m \u001b[0;34m=\u001b[0m \u001b[0mself\u001b[0m\u001b[0;34m.\u001b[0m\u001b[0mmethod\u001b[0m\u001b[0;34m(\u001b[0m\u001b[0mmax_id\u001b[0m\u001b[0;34m=\u001b[0m\u001b[0mself\u001b[0m\u001b[0;34m.\u001b[0m\u001b[0mmax_id\u001b[0m\u001b[0;34m,\u001b[0m \u001b[0mparser\u001b[0m\u001b[0;34m=\u001b[0m\u001b[0mRawParser\u001b[0m\u001b[0;34m(\u001b[0m\u001b[0;34m)\u001b[0m\u001b[0;34m,\u001b[0m \u001b[0;34m*\u001b[0m\u001b[0mself\u001b[0m\u001b[0;34m.\u001b[0m\u001b[0margs\u001b[0m\u001b[0;34m,\u001b[0m \u001b[0;34m**\u001b[0m\u001b[0mself\u001b[0m\u001b[0;34m.\u001b[0m\u001b[0mkargs\u001b[0m\u001b[0;34m)\u001b[0m\u001b[0;34m\u001b[0m\u001b[0;34m\u001b[0m\u001b[0m\n\u001b[0m\u001b[1;32m    109\u001b[0m \u001b[0;34m\u001b[0m\u001b[0m\n\u001b[1;32m    110\u001b[0m             \u001b[0;32mif\u001b[0m \u001b[0mhasattr\u001b[0m\u001b[0;34m(\u001b[0m\u001b[0mself\u001b[0m\u001b[0;34m.\u001b[0m\u001b[0mmethod\u001b[0m\u001b[0;34m,\u001b[0m \u001b[0;34m'__self__'\u001b[0m\u001b[0;34m)\u001b[0m\u001b[0;34m:\u001b[0m\u001b[0;34m\u001b[0m\u001b[0;34m\u001b[0m\u001b[0m\n",
            "\u001b[0;32m/usr/local/lib/python3.6/dist-packages/tweepy/binder.py\u001b[0m in \u001b[0;36m_call\u001b[0;34m(*args, **kwargs)\u001b[0m\n\u001b[1;32m    248\u001b[0m             \u001b[0;32mreturn\u001b[0m \u001b[0mmethod\u001b[0m\u001b[0;34m\u001b[0m\u001b[0;34m\u001b[0m\u001b[0m\n\u001b[1;32m    249\u001b[0m         \u001b[0;32melse\u001b[0m\u001b[0;34m:\u001b[0m\u001b[0;34m\u001b[0m\u001b[0;34m\u001b[0m\u001b[0m\n\u001b[0;32m--> 250\u001b[0;31m             \u001b[0;32mreturn\u001b[0m \u001b[0mmethod\u001b[0m\u001b[0;34m.\u001b[0m\u001b[0mexecute\u001b[0m\u001b[0;34m(\u001b[0m\u001b[0;34m)\u001b[0m\u001b[0;34m\u001b[0m\u001b[0;34m\u001b[0m\u001b[0m\n\u001b[0m\u001b[1;32m    251\u001b[0m \u001b[0;34m\u001b[0m\u001b[0m\n\u001b[1;32m    252\u001b[0m     \u001b[0;31m# Set pagination mode\u001b[0m\u001b[0;34m\u001b[0m\u001b[0;34m\u001b[0m\u001b[0;34m\u001b[0m\u001b[0m\n",
            "\u001b[0;32m/usr/local/lib/python3.6/dist-packages/tweepy/binder.py\u001b[0m in \u001b[0;36mexecute\u001b[0;34m(self)\u001b[0m\n\u001b[1;32m    232\u001b[0m                     \u001b[0;32mraise\u001b[0m \u001b[0mRateLimitError\u001b[0m\u001b[0;34m(\u001b[0m\u001b[0merror_msg\u001b[0m\u001b[0;34m,\u001b[0m \u001b[0mresp\u001b[0m\u001b[0;34m)\u001b[0m\u001b[0;34m\u001b[0m\u001b[0;34m\u001b[0m\u001b[0m\n\u001b[1;32m    233\u001b[0m                 \u001b[0;32melse\u001b[0m\u001b[0;34m:\u001b[0m\u001b[0;34m\u001b[0m\u001b[0;34m\u001b[0m\u001b[0m\n\u001b[0;32m--> 234\u001b[0;31m                     \u001b[0;32mraise\u001b[0m \u001b[0mTweepError\u001b[0m\u001b[0;34m(\u001b[0m\u001b[0merror_msg\u001b[0m\u001b[0;34m,\u001b[0m \u001b[0mresp\u001b[0m\u001b[0;34m,\u001b[0m \u001b[0mapi_code\u001b[0m\u001b[0;34m=\u001b[0m\u001b[0mapi_error_code\u001b[0m\u001b[0;34m)\u001b[0m\u001b[0;34m\u001b[0m\u001b[0;34m\u001b[0m\u001b[0m\n\u001b[0m\u001b[1;32m    235\u001b[0m \u001b[0;34m\u001b[0m\u001b[0m\n\u001b[1;32m    236\u001b[0m             \u001b[0;31m# Parse the response payload\u001b[0m\u001b[0;34m\u001b[0m\u001b[0;34m\u001b[0m\u001b[0;34m\u001b[0m\u001b[0m\n",
            "\u001b[0;31mTweepError\u001b[0m: Twitter error response: status code = 429"
          ]
        }
      ]
    },
    {
      "cell_type": "code",
      "metadata": {
        "id": "lAabjh7PnIk-",
        "colab_type": "code",
        "colab": {
          "base_uri": "https://localhost:8080/",
          "height": 524
        },
        "outputId": "970a2986-fe4b-45a4-be36-2b16192bfe02"
      },
      "source": [
        "!pip uninstall twitter\n",
        "!pip install python-twitter"
      ],
      "execution_count": null,
      "outputs": [
        {
          "output_type": "stream",
          "text": [
            "Uninstalling twitter-1.18.0:\n",
            "  Would remove:\n",
            "    /usr/local/bin/twitter\n",
            "    /usr/local/bin/twitter-archiver\n",
            "    /usr/local/bin/twitter-follow\n",
            "    /usr/local/bin/twitter-log\n",
            "    /usr/local/bin/twitter-stream-example\n",
            "    /usr/local/bin/twitterbot\n",
            "    /usr/local/lib/python3.6/dist-packages/twitter-1.18.0.dist-info/*\n",
            "    /usr/local/lib/python3.6/dist-packages/twitter/*\n",
            "  Would not remove (might be manually added):\n",
            "    /usr/local/lib/python3.6/dist-packages/twitter/_file_cache.py\n",
            "    /usr/local/lib/python3.6/dist-packages/twitter/debug.py\n",
            "    /usr/local/lib/python3.6/dist-packages/twitter/error.py\n",
            "    /usr/local/lib/python3.6/dist-packages/twitter/models.py\n",
            "    /usr/local/lib/python3.6/dist-packages/twitter/parse_tweet.py\n",
            "    /usr/local/lib/python3.6/dist-packages/twitter/ratelimit.py\n",
            "    /usr/local/lib/python3.6/dist-packages/twitter/twitter_utils.py\n",
            "Proceed (y/n)? y\n",
            "  Successfully uninstalled twitter-1.18.0\n",
            "Requirement already satisfied: python-twitter in /usr/local/lib/python3.6/dist-packages (3.5)\n",
            "Requirement already satisfied: requests in /usr/local/lib/python3.6/dist-packages (from python-twitter) (2.23.0)\n",
            "Requirement already satisfied: future in /usr/local/lib/python3.6/dist-packages (from python-twitter) (0.16.0)\n",
            "Requirement already satisfied: requests-oauthlib in /usr/local/lib/python3.6/dist-packages (from python-twitter) (1.3.0)\n",
            "Requirement already satisfied: chardet<4,>=3.0.2 in /usr/local/lib/python3.6/dist-packages (from requests->python-twitter) (3.0.4)\n",
            "Requirement already satisfied: certifi>=2017.4.17 in /usr/local/lib/python3.6/dist-packages (from requests->python-twitter) (2020.6.20)\n",
            "Requirement already satisfied: idna<3,>=2.5 in /usr/local/lib/python3.6/dist-packages (from requests->python-twitter) (2.10)\n",
            "Requirement already satisfied: urllib3!=1.25.0,!=1.25.1,<1.26,>=1.21.1 in /usr/local/lib/python3.6/dist-packages (from requests->python-twitter) (1.24.3)\n",
            "Requirement already satisfied: oauthlib>=3.0.0 in /usr/local/lib/python3.6/dist-packages (from requests-oauthlib->python-twitter) (3.1.0)\n"
          ],
          "name": "stdout"
        }
      ]
    },
    {
      "cell_type": "code",
      "metadata": {
        "id": "fROs-qAAke75",
        "colab_type": "code",
        "colab": {
          "base_uri": "https://localhost:8080/",
          "height": 366
        },
        "outputId": "b7db47c4-d05d-4efd-e195-2054d2153f90"
      },
      "source": [
        "import sys\n",
        "import json\n",
        "import time\n",
        "import logging\n",
        "import twitter\n",
        "import urllib.parse\n",
        "\n",
        "from os import environ as e\n",
        "\n",
        "t = twitter.Api(\n",
        "    consumer_key=e[\"JafJoAMSCwUZoliYTZyVaIBfQ\"],\n",
        "    consumer_secret=e[\"0oORIdmX9TgXqcVM0Whl7KhbfJKiDWMhCxtHIcrcZLwoGdppYd\"],\n",
        "    access_token_key=e[\"975491031478296577-K88CwhvceLRF6loLdgKup1j2vfv7TKc\"],\n",
        "    access_token_secret=e[\"JrGJVYBXBkRptlrjskBIHRoWhhpSKC3bRZYsa7RklBuzJ\"],\n",
        "    #sleep_on_rate_limit=True\n",
        ")\n",
        "\n",
        "def tweet_url(t):\n",
        "    return \"https://twitter.com/%s/status/%s\" % (t.user.screen_name, t.id)\n",
        "\n",
        "def get_tweets(filename):\n",
        "    for line in open(filename):\n",
        "        yield twitter.Status.NewFromJsonDict(json.loads(line))\n",
        "\n",
        "def get_replies(tweet):\n",
        "    user = tweet.user.screen_name\n",
        "    tweet_id = tweet.id\n",
        "    max_id = None\n",
        "    logging.info(\"looking for replies to: %s\" % tweet_url(tweet))\n",
        "    while True:\n",
        "        q = urllib.parse.urlencode({\"q\": \"to:%s\" % user})\n",
        "        try:\n",
        "            replies = t.GetSearch(raw_query=q, since_id=tweet_id, max_id=max_id, count=100)\n",
        "        except twitter.error.TwitterError as e:\n",
        "            logging.error(\"caught twitter api error: %s\", e)\n",
        "            time.sleep(60)\n",
        "            continue\n",
        "        for reply in replies:\n",
        "            logging.info(\"examining: %s\" % tweet_url(reply))\n",
        "            if reply.in_reply_to_status_id == tweet_id:\n",
        "                logging.info(\"found reply: %s\" % tweet_url(reply))\n",
        "                yield reply\n",
        "                # recursive magic to also get the replies to this reply\n",
        "                for reply_to_reply in get_replies(reply):\n",
        "                    yield reply_to_reply\n",
        "            max_id = reply.id\n",
        "        if len(replies) != 100:\n",
        "            break\n",
        "\n",
        "if __name__ == \"__main__\":\n",
        "    logging.basicConfig(filename=\"replies.log\", level=logging.INFO)\n",
        "    tweets_file = sys.argv[1]\n",
        "    for tweet in get_tweets(tweets_file):\n",
        "        for reply in get_replies(tweet):\n",
        "            print(reply.AsJsonString())"
      ],
      "execution_count": null,
      "outputs": [
        {
          "output_type": "error",
          "ename": "ModuleNotFoundError",
          "evalue": "ignored",
          "traceback": [
            "\u001b[0;31m---------------------------------------------------------------------------\u001b[0m",
            "\u001b[0;31mModuleNotFoundError\u001b[0m                       Traceback (most recent call last)",
            "\u001b[0;32m<ipython-input-33-c50a1c14fdfd>\u001b[0m in \u001b[0;36m<module>\u001b[0;34m()\u001b[0m\n\u001b[1;32m      3\u001b[0m \u001b[0;32mimport\u001b[0m \u001b[0mtime\u001b[0m\u001b[0;34m\u001b[0m\u001b[0;34m\u001b[0m\u001b[0m\n\u001b[1;32m      4\u001b[0m \u001b[0;32mimport\u001b[0m \u001b[0mlogging\u001b[0m\u001b[0;34m\u001b[0m\u001b[0;34m\u001b[0m\u001b[0m\n\u001b[0;32m----> 5\u001b[0;31m \u001b[0;32mimport\u001b[0m \u001b[0mTwitter\u001b[0m\u001b[0;34m\u001b[0m\u001b[0;34m\u001b[0m\u001b[0m\n\u001b[0m\u001b[1;32m      6\u001b[0m \u001b[0;32mimport\u001b[0m \u001b[0murllib\u001b[0m\u001b[0;34m.\u001b[0m\u001b[0mparse\u001b[0m\u001b[0;34m\u001b[0m\u001b[0;34m\u001b[0m\u001b[0m\n\u001b[1;32m      7\u001b[0m \u001b[0;34m\u001b[0m\u001b[0m\n",
            "\u001b[0;31mModuleNotFoundError\u001b[0m: No module named 'Twitter'",
            "",
            "\u001b[0;31m---------------------------------------------------------------------------\u001b[0;32m\nNOTE: If your import is failing due to a missing package, you can\nmanually install dependencies using either !pip or !apt.\n\nTo view examples of installing some common dependencies, click the\n\"Open Examples\" button below.\n\u001b[0;31m---------------------------------------------------------------------------\u001b[0m\n"
          ]
        }
      ]
    },
    {
      "cell_type": "code",
      "metadata": {
        "id": "ZFWolfLVUIYT",
        "colab_type": "code",
        "colab": {}
      },
      "source": [
        "def print(index)\n",
        "  listl=[1,2,3,4]\n",
        "  if len(listl)==0\n",
        "    return\n",
        "  else\n",
        "    print(listl[:])"
      ],
      "execution_count": null,
      "outputs": []
    },
    {
      "cell_type": "code",
      "metadata": {
        "id": "HDAMPOxDxd3o",
        "colab_type": "code",
        "colab": {
          "base_uri": "https://localhost:8080/",
          "height": 33
        },
        "outputId": "18e3799a-4393-46d9-94f6-d71e9fe519e9"
      },
      "source": [
        "l=[1,2,3]\n",
        "l=l[:1]\n",
        "l\n"
      ],
      "execution_count": null,
      "outputs": [
        {
          "output_type": "execute_result",
          "data": {
            "text/plain": [
              "[1]"
            ]
          },
          "metadata": {
            "tags": []
          },
          "execution_count": 27
        }
      ]
    },
    {
      "cell_type": "code",
      "metadata": {
        "id": "YGEvvGlSv5fu",
        "colab_type": "code",
        "colab": {}
      },
      "source": [
        " row = {'topic':'Covid-19','Tread Id':str(n),'Post-Id':tweet.id,'user': tweet.user.screen_name,'Time':tweet.created_at, 'Text': tweet.text.replace('\\n',tweet., ' ')}\n",
        "       \n",
        "# Find the last tweet\n",
        "for page in tweepy.Cursor(api.user_timeline, id=\"253346744\").pages(1):\n",
        "    for item in page:\n",
        "        if item.in_reply_to_user_id_str == \"151791801\":\n",
        "            last_tweet = item"
      ],
      "execution_count": null,
      "outputs": []
    },
    {
      "cell_type": "code",
      "metadata": {
        "id": "p1Ej9Hh8v5Uf",
        "colab_type": "code",
        "colab": {
          "base_uri": "https://localhost:8080/",
          "height": 52
        },
        "outputId": "ad293fb5-948d-4349-c333-510f3e699f9c"
      },
      "source": [
        "import tweepy #https://github.com/tweepy/tweepy\n",
        "import csv\n",
        "\n",
        "#Credenciales del Twitter API\n",
        "consumer_key = \"dgeI7HnupuGL4lDFRIbTobAzk\"\n",
        "consumer_secret = \"ZhO2nirv1wMqq9RqW0DlvcqU79Pq3bz5FNqC13hRxuUZQoGgjd\"\n",
        "access_key = \"975491031478296577-tXQ3jTJUGubeWlrdpwqg6CKGLKeKvhv\"\n",
        "access_secret = \"9W1d0VBuQMC4VgE0At2JruncQS4KUioK4uVq7HXTfkM97\"\n",
        "\n",
        "#Remover los caracteres no imprimibles y los saltos de línea del texto del tweet\n",
        "def strip_undesired_chars(tweet):\n",
        "    stripped_tweet = tweet.replace('\\n', ' ').replace('\\r', '')\n",
        "    char_list = [stripped_tweet[j] for j in range(len(stripped_tweet)) if ord(stripped_tweet[j]) in range(65536)]\n",
        "    stripped_tweet=''\n",
        "    for j in char_list:\n",
        "        stripped_tweet=stripped_tweet+j\n",
        "    return stripped_tweet\n",
        "\n",
        "def get_all_tweets(screen_name):\n",
        "    #Este método solo tiene permitido descargar máximo los ultimos 3240 tweets del usuario\n",
        "    #Especificar aquí durante las pruebas un número entre 200 y 3240\n",
        "    limit_number = 3240\n",
        "    \n",
        "    #autorizar twitter, inicializar tweepy\n",
        "    auth = tweepy.OAuthHandler(consumer_key, consumer_secret)\n",
        "    auth.set_access_token(access_key, access_secret)\n",
        "    api = tweepy.API(auth)\n",
        "    \n",
        "    #inicializar una list to para almacenar los Tweets descargados por tweepy\n",
        "    alltweets = []    \n",
        "    \n",
        "    #Hacer una petición inicial por los 200 tweets más recientes (200 es el número máximo permitido)\n",
        "    new_tweets = api.user_timeline(screen_name = screen_name,count=200)\n",
        "\n",
        "    #guardar los tweets más recientes\n",
        "    alltweets.extend(new_tweets)\n",
        "    \n",
        "    #guardar el ID del tweet más antiguo menos 1\n",
        "    oldest = alltweets[-1].id - 1\n",
        "    \n",
        "    #recorrer todos los tweets en la cola hasta que no queden más\n",
        "    while len(new_tweets) > 0 and len(alltweets) <= limit_number:\n",
        "        print (\"getting tweets before\" + str(oldest))\n",
        "        \n",
        "        #en todas las peticiones siguientes usar el parámetro max_id para evitar duplicados\n",
        "        new_tweets = api.user_timeline(screen_name = screen_name,count=200,max_id=oldest)\n",
        "        \n",
        "        #guardar los tweets descargados\n",
        "        alltweets.extend(new_tweets)\n",
        "        \n",
        "        #actualizar el ID del tweet más antiguo menos 1\n",
        "        oldest = alltweets[-1].id - 1\n",
        "        \n",
        "        #informar en la consola como vamos\n",
        "        print (str(len(alltweets)) + \" tweets descargados hasta el momento\")\n",
        "    \n",
        "    #transformar los tweets descargados con tweepy en un arreglo 2D array que llenará el csv\n",
        "    outtweets = [(tweet.id_str,tweet.contributors ,tweet.created_at, strip_undesired_chars(tweet.text),tweet.retweet_count,str(tweet.favorite_count)+'') for tweet in alltweets]\n",
        "    \n",
        "    #escribir el csv    \n",
        "    with open('%s_tweets.csv' % screen_name, \"w\", newline='') as f:       \n",
        "        writer = csv.writer(f, quoting=csv.QUOTE_ALL)\n",
        "        writer.writerow(['id','contributors','created_at','text','retweet_count','favorite_count'''])\n",
        "        writer.writerows(outtweets)    \n",
        "    pass\n",
        "\n",
        "if __name__ == '__main__':\n",
        "    #especificar el nombre de usuario de la cuenta a la cual se descargarán los tweets\n",
        "    get_all_tweets(\"Agregar TwitterUser\")"
      ],
      "execution_count": null,
      "outputs": [
        {
          "output_type": "stream",
          "text": [
            "getting tweets before975493195021811712\n",
            "3 tweets descargados hasta el momento\n"
          ],
          "name": "stdout"
        }
      ]
    },
    {
      "cell_type": "markdown",
      "metadata": {
        "id": "Ht1eAeWo5wua",
        "colab_type": "text"
      },
      "source": [
        "## Directorio principal"
      ]
    },
    {
      "cell_type": "code",
      "metadata": {
        "id": "7V0nTnWi5thE",
        "colab_type": "code",
        "colab": {}
      },
      "source": [
        "workspace = '/content/drive/My Drive/Colab Notebooks/TopicosDBFinalProject/'\n",
        "data_dir = workspace + 'data/'"
      ],
      "execution_count": null,
      "outputs": []
    },
    {
      "cell_type": "markdown",
      "metadata": {
        "id": "NBde1FaO2smn",
        "colab_type": "text"
      },
      "source": [
        "# API translate (traductor): Proveedor MyMemory"
      ]
    },
    {
      "cell_type": "code",
      "metadata": {
        "id": "iyhNOBETun8e",
        "colab_type": "code",
        "colab": {
          "base_uri": "https://localhost:8080/",
          "height": 1000
        },
        "outputId": "829b1816-3ba4-4567-bafb-3508fb349fe0"
      },
      "source": [
        "!pip install translate\n",
        "!pip install --upgrade \"ibm-watson>=4.5.0\""
      ],
      "execution_count": 7,
      "outputs": [
        {
          "output_type": "stream",
          "text": [
            "Collecting translate\n",
            "  Downloading https://files.pythonhosted.org/packages/85/b2/2ea329a07bbc0c7227eef84ca89ffd6895e7ec237d6c0b26574d56103e53/translate-3.5.0-py2.py3-none-any.whl\n",
            "Collecting pre-commit\n",
            "\u001b[?25l  Downloading https://files.pythonhosted.org/packages/04/f0/84f3ac2978fa32096585a8ad3c695e7555a28e60e71064d8648f1adb2f92/pre_commit-2.6.0-py2.py3-none-any.whl (171kB)\n",
            "\u001b[K     |████████████████████████████████| 174kB 459kB/s \n",
            "\u001b[?25hRequirement already satisfied: lxml in /usr/local/lib/python3.6/dist-packages (from translate) (4.2.6)\n",
            "Requirement already satisfied: click in /usr/local/lib/python3.6/dist-packages (from translate) (7.1.2)\n",
            "Collecting tox\n",
            "\u001b[?25l  Downloading https://files.pythonhosted.org/packages/a4/eb/09b02408f46cd18cc8345849dbf42a7d823ebe1cc8522517dc7b1a924ce5/tox-3.19.0-py2.py3-none-any.whl (83kB)\n",
            "\u001b[K     |████████████████████████████████| 92kB 2.5MB/s \n",
            "\u001b[?25hRequirement already satisfied: requests in /usr/local/lib/python3.6/dist-packages (from translate) (2.23.0)\n",
            "Collecting importlib-resources; python_version < \"3.7\"\n",
            "  Downloading https://files.pythonhosted.org/packages/ba/03/0f9595c0c2ef12590877f3c47e5f579759ce5caf817f8256d5dcbd8a1177/importlib_resources-3.0.0-py2.py3-none-any.whl\n",
            "Collecting virtualenv>=20.0.8\n",
            "\u001b[?25l  Downloading https://files.pythonhosted.org/packages/1d/09/9179b676c126b2687bf4110e5b88c8c52d9113f31bd5f8f6ab97d380e434/virtualenv-20.0.30-py2.py3-none-any.whl (7.1MB)\n",
            "\u001b[K     |████████████████████████████████| 7.1MB 2.9MB/s \n",
            "\u001b[?25hRequirement already satisfied: importlib-metadata; python_version < \"3.8\" in /usr/local/lib/python3.6/dist-packages (from pre-commit->translate) (1.7.0)\n",
            "Collecting identify>=1.0.0\n",
            "\u001b[?25l  Downloading https://files.pythonhosted.org/packages/0b/90/d21cf91ac0fb50ad88d5bc40e4cad9ccc482a582152812cd5ef01a5b262a/identify-1.4.25-py2.py3-none-any.whl (97kB)\n",
            "\u001b[K     |████████████████████████████████| 102kB 4.0MB/s \n",
            "\u001b[?25hCollecting cfgv>=2.0.0\n",
            "  Downloading https://files.pythonhosted.org/packages/45/cd/3878c9248e59e5e2ebd0dc741ab984b18d86e7283ae9b127b05fc287d239/cfgv-3.2.0-py2.py3-none-any.whl\n",
            "Requirement already satisfied: toml in /usr/local/lib/python3.6/dist-packages (from pre-commit->translate) (0.10.1)\n",
            "Collecting nodeenv>=0.11.1\n",
            "  Downloading https://files.pythonhosted.org/packages/0d/54/538edbe88c87f6cd71f009145a56264622de84508f6ad1ae4d76976f47be/nodeenv-1.4.0-py2.py3-none-any.whl\n",
            "Collecting pyyaml>=5.1\n",
            "\u001b[?25l  Downloading https://files.pythonhosted.org/packages/64/c2/b80047c7ac2478f9501676c988a5411ed5572f35d1beff9cae07d321512c/PyYAML-5.3.1.tar.gz (269kB)\n",
            "\u001b[K     |████████████████████████████████| 276kB 4.8MB/s \n",
            "\u001b[?25hRequirement already satisfied: packaging>=14 in /usr/local/lib/python3.6/dist-packages (from tox->translate) (20.4)\n",
            "Requirement already satisfied: py>=1.4.17 in /usr/local/lib/python3.6/dist-packages (from tox->translate) (1.9.0)\n",
            "Collecting pluggy>=0.12.0\n",
            "  Downloading https://files.pythonhosted.org/packages/a0/28/85c7aa31b80d150b772fbe4a229487bc6644da9ccb7e427dd8cc60cb8a62/pluggy-0.13.1-py2.py3-none-any.whl\n",
            "Requirement already satisfied: six>=1.14.0 in /usr/local/lib/python3.6/dist-packages (from tox->translate) (1.15.0)\n",
            "Requirement already satisfied: filelock>=3.0.0 in /usr/local/lib/python3.6/dist-packages (from tox->translate) (3.0.12)\n",
            "Requirement already satisfied: idna<3,>=2.5 in /usr/local/lib/python3.6/dist-packages (from requests->translate) (2.10)\n",
            "Requirement already satisfied: urllib3!=1.25.0,!=1.25.1,<1.26,>=1.21.1 in /usr/local/lib/python3.6/dist-packages (from requests->translate) (1.24.3)\n",
            "Requirement already satisfied: certifi>=2017.4.17 in /usr/local/lib/python3.6/dist-packages (from requests->translate) (2020.6.20)\n",
            "Requirement already satisfied: chardet<4,>=3.0.2 in /usr/local/lib/python3.6/dist-packages (from requests->translate) (3.0.4)\n",
            "Requirement already satisfied: zipp>=0.4; python_version < \"3.8\" in /usr/local/lib/python3.6/dist-packages (from importlib-resources; python_version < \"3.7\"->pre-commit->translate) (3.1.0)\n",
            "Collecting distlib<1,>=0.3.1\n",
            "\u001b[?25l  Downloading https://files.pythonhosted.org/packages/f5/0a/490fa011d699bb5a5f3a0cf57de82237f52a6db9d40f33c53b2736c9a1f9/distlib-0.3.1-py2.py3-none-any.whl (335kB)\n",
            "\u001b[K     |████████████████████████████████| 337kB 4.4MB/s \n",
            "\u001b[?25hCollecting appdirs<2,>=1.4.3\n",
            "  Downloading https://files.pythonhosted.org/packages/3b/00/2344469e2084fb287c2e0b57b72910309874c3245463acd6cf5e3db69324/appdirs-1.4.4-py2.py3-none-any.whl\n",
            "Requirement already satisfied: pyparsing>=2.0.2 in /usr/local/lib/python3.6/dist-packages (from packaging>=14->tox->translate) (2.4.7)\n",
            "Building wheels for collected packages: pyyaml\n",
            "  Building wheel for pyyaml (setup.py) ... \u001b[?25l\u001b[?25hdone\n",
            "  Created wheel for pyyaml: filename=PyYAML-5.3.1-cp36-cp36m-linux_x86_64.whl size=44621 sha256=78bd02eb4b085c7700a97e7873eac0dae69b0bbbe6a53aaeecddb7d695d4c4fa\n",
            "  Stored in directory: /root/.cache/pip/wheels/a7/c1/ea/cf5bd31012e735dc1dfea3131a2d5eae7978b251083d6247bd\n",
            "Successfully built pyyaml\n",
            "\u001b[31mERROR: pytest 3.6.4 has requirement pluggy<0.8,>=0.5, but you'll have pluggy 0.13.1 which is incompatible.\u001b[0m\n",
            "\u001b[31mERROR: datascience 0.10.6 has requirement folium==0.2.1, but you'll have folium 0.8.3 which is incompatible.\u001b[0m\n",
            "Installing collected packages: importlib-resources, distlib, appdirs, virtualenv, identify, cfgv, nodeenv, pyyaml, pre-commit, pluggy, tox, translate\n",
            "  Found existing installation: PyYAML 3.13\n",
            "    Uninstalling PyYAML-3.13:\n",
            "      Successfully uninstalled PyYAML-3.13\n",
            "  Found existing installation: pluggy 0.7.1\n",
            "    Uninstalling pluggy-0.7.1:\n",
            "      Successfully uninstalled pluggy-0.7.1\n",
            "Successfully installed appdirs-1.4.4 cfgv-3.2.0 distlib-0.3.1 identify-1.4.25 importlib-resources-3.0.0 nodeenv-1.4.0 pluggy-0.13.1 pre-commit-2.6.0 pyyaml-5.3.1 tox-3.19.0 translate-3.5.0 virtualenv-20.0.30\n",
            "Collecting ibm-watson>=4.5.0\n",
            "\u001b[?25l  Downloading https://files.pythonhosted.org/packages/dc/da/10f8774b319acdda29885931c01fae862622519bff492957c73b0ba84743/ibm-watson-4.5.0.tar.gz (370kB)\n",
            "\u001b[K     |████████████████████████████████| 378kB 439kB/s \n",
            "\u001b[?25hRequirement already satisfied, skipping upgrade: requests<3.0,>=2.0 in /usr/local/lib/python3.6/dist-packages (from ibm-watson>=4.5.0) (2.23.0)\n",
            "Requirement already satisfied, skipping upgrade: python_dateutil>=2.5.3 in /usr/local/lib/python3.6/dist-packages (from ibm-watson>=4.5.0) (2.8.1)\n",
            "Collecting websocket-client==0.48.0\n",
            "\u001b[?25l  Downloading https://files.pythonhosted.org/packages/8a/a1/72ef9aa26cfe1a75cee09fc1957e4723add9de098c15719416a1ee89386b/websocket_client-0.48.0-py2.py3-none-any.whl (198kB)\n",
            "\u001b[K     |████████████████████████████████| 204kB 5.7MB/s \n",
            "\u001b[?25hCollecting ibm_cloud_sdk_core==1.5.1\n",
            "  Downloading https://files.pythonhosted.org/packages/b7/f6/10d5271c807d73d236e6ae07b68035fed78b28b5ab836704d34097af3986/ibm-cloud-sdk-core-1.5.1.tar.gz\n",
            "Requirement already satisfied, skipping upgrade: idna<3,>=2.5 in /usr/local/lib/python3.6/dist-packages (from requests<3.0,>=2.0->ibm-watson>=4.5.0) (2.10)\n",
            "Requirement already satisfied, skipping upgrade: certifi>=2017.4.17 in /usr/local/lib/python3.6/dist-packages (from requests<3.0,>=2.0->ibm-watson>=4.5.0) (2020.6.20)\n",
            "Requirement already satisfied, skipping upgrade: urllib3!=1.25.0,!=1.25.1,<1.26,>=1.21.1 in /usr/local/lib/python3.6/dist-packages (from requests<3.0,>=2.0->ibm-watson>=4.5.0) (1.24.3)\n",
            "Requirement already satisfied, skipping upgrade: chardet<4,>=3.0.2 in /usr/local/lib/python3.6/dist-packages (from requests<3.0,>=2.0->ibm-watson>=4.5.0) (3.0.4)\n",
            "Requirement already satisfied, skipping upgrade: six>=1.5 in /usr/local/lib/python3.6/dist-packages (from python_dateutil>=2.5.3->ibm-watson>=4.5.0) (1.15.0)\n",
            "Collecting PyJWT>=1.7.1\n",
            "  Downloading https://files.pythonhosted.org/packages/87/8b/6a9f14b5f781697e51259d81657e6048fd31a113229cf346880bb7545565/PyJWT-1.7.1-py2.py3-none-any.whl\n",
            "Building wheels for collected packages: ibm-watson, ibm-cloud-sdk-core\n",
            "  Building wheel for ibm-watson (setup.py) ... \u001b[?25l\u001b[?25hdone\n",
            "  Created wheel for ibm-watson: filename=ibm_watson-4.5.0-cp36-none-any.whl size=364301 sha256=f2aab2add28babaae95efd1788031847f07bb1b3741c29b507c5d2b9960c8a1d\n",
            "  Stored in directory: /root/.cache/pip/wheels/71/9a/0a/9b3ca8eca69bc5362eb04709a750b30055a9d27818fd0c9494\n",
            "  Building wheel for ibm-cloud-sdk-core (setup.py) ... \u001b[?25l\u001b[?25hdone\n",
            "  Created wheel for ibm-cloud-sdk-core: filename=ibm_cloud_sdk_core-1.5.1-cp36-none-any.whl size=44491 sha256=95a19067c935df9394f927940bbae94912edaa8c2c14dd7daa02bc25a63c14e7\n",
            "  Stored in directory: /root/.cache/pip/wheels/6a/42/50/f96888116b329578304f9dda4693cef6f3e76e18272d22cb6c\n",
            "Successfully built ibm-watson ibm-cloud-sdk-core\n",
            "Installing collected packages: websocket-client, PyJWT, ibm-cloud-sdk-core, ibm-watson\n",
            "Successfully installed PyJWT-1.7.1 ibm-cloud-sdk-core-1.5.1 ibm-watson-4.5.0 websocket-client-0.48.0\n"
          ],
          "name": "stdout"
        }
      ]
    },
    {
      "cell_type": "code",
      "metadata": {
        "id": "aulrHCwdyELC",
        "colab_type": "code",
        "colab": {
          "base_uri": "https://localhost:8080/",
          "height": 34
        },
        "outputId": "602027e3-431d-4ab9-e2ac-b2ce91576a9a"
      },
      "source": [
        "from translate import Translator\n",
        "translator = Translator(provider='mymemory', from_lang='es' ,to_lang='en')\n",
        "line = translator.translate('el grupo criminal los mermeleros')\n",
        "print(line)"
      ],
      "execution_count": null,
      "outputs": [
        {
          "output_type": "stream",
          "text": [
            "the criminal group the mermeleros\n"
          ],
          "name": "stdout"
        }
      ]
    },
    {
      "cell_type": "markdown",
      "metadata": {
        "id": "6eHyu7ZX28Or",
        "colab_type": "text"
      },
      "source": [
        "# API IBM: analisis de sentimientos"
      ]
    },
    {
      "cell_type": "code",
      "metadata": {
        "id": "ct5v2Eb028iA",
        "colab_type": "code",
        "colab": {}
      },
      "source": [
        "import json\n",
        "import pandas as pd\n",
        "\n",
        "from ibm_watson import ToneAnalyzerV3\n",
        "from ibm_cloud_sdk_core.authenticators import IAMAuthenticator\n",
        "\n",
        "#read credential.json to extract key\n",
        "\n",
        "with open(workspace+'credentials.json') as f: \n",
        "  credentials = json.load(f)\n",
        "#print(credentials)\n",
        "\n",
        "#set IBM IAM token\n",
        "\n",
        "authenticator = IAMAuthenticator(credentials['apikey']) #autenthicate api server\n",
        "tone_analyzer = ToneAnalyzerV3(\n",
        "    version='2017-09-21',\n",
        "    authenticator=authenticator\n",
        ") #get tone analyzer\n",
        "\n",
        "tone_analyzer.set_service_url('https://api.us-south.tone-analyzer.watson.cloud.ibm.com') #endpoint Dallas\n",
        "tone_analyzer.set_disable_ssl_verification(True)\n",
        "\n",
        "text = 'Team, I know that times are tough! Product '\\\n",
        "    'sales have been disappointing for the past three '\\\n",
        "    'quarters. We have a competitive product, but we '\\\n",
        "    'need to do a better job of selling it!'\n",
        "\n",
        "tone_analysis = tone_analyzer.tone(\n",
        "    {'text': text},\n",
        "    content_type='application/json'\n",
        ").get_result()\n",
        "print(json.dumps(tone_analysis, indent=2))"
      ],
      "execution_count": null,
      "outputs": []
    },
    {
      "cell_type": "markdown",
      "metadata": {
        "id": "6ZfUwVUzwKPb",
        "colab_type": "text"
      },
      "source": [
        "# Google translate api"
      ]
    },
    {
      "cell_type": "code",
      "metadata": {
        "id": "3vzvt-NXxGvY",
        "colab_type": "code",
        "colab": {
          "base_uri": "https://localhost:8080/",
          "height": 759
        },
        "outputId": "ddc92cc0-8cba-4020-a3ef-3ae3f7d15e7f"
      },
      "source": [
        "!pip install googletrans"
      ],
      "execution_count": 1,
      "outputs": [
        {
          "output_type": "stream",
          "text": [
            "Collecting googletrans\n",
            "  Downloading https://files.pythonhosted.org/packages/71/3a/3b19effdd4c03958b90f40fe01c93de6d5280e03843cc5adf6956bfc9512/googletrans-3.0.0.tar.gz\n",
            "Collecting httpx==0.13.3\n",
            "\u001b[?25l  Downloading https://files.pythonhosted.org/packages/54/b4/698b284c6aed4d7c2b4fe3ba5df1fcf6093612423797e76fbb24890dd22f/httpx-0.13.3-py3-none-any.whl (55kB)\n",
            "\u001b[K     |████████████████████████████████| 61kB 2.8MB/s \n",
            "\u001b[?25hRequirement already satisfied: certifi in /usr/local/lib/python3.6/dist-packages (from httpx==0.13.3->googletrans) (2020.6.20)\n",
            "Collecting rfc3986<2,>=1.3\n",
            "  Downloading https://files.pythonhosted.org/packages/78/be/7b8b99fd74ff5684225f50dd0e865393d2265656ef3b4ba9eaaaffe622b8/rfc3986-1.4.0-py2.py3-none-any.whl\n",
            "Requirement already satisfied: chardet==3.* in /usr/local/lib/python3.6/dist-packages (from httpx==0.13.3->googletrans) (3.0.4)\n",
            "Collecting sniffio\n",
            "  Downloading https://files.pythonhosted.org/packages/b3/82/4bd4b7d9c0d1dc0fbfbc2a1e00138e7f3ab85bc239358fe9b78aa2ab586d/sniffio-1.1.0-py3-none-any.whl\n",
            "Requirement already satisfied: idna==2.* in /usr/local/lib/python3.6/dist-packages (from httpx==0.13.3->googletrans) (2.10)\n",
            "Collecting httpcore==0.9.*\n",
            "\u001b[?25l  Downloading https://files.pythonhosted.org/packages/dd/d5/e4ff9318693ac6101a2095e580908b591838c6f33df8d3ee8dd953ba96a8/httpcore-0.9.1-py3-none-any.whl (42kB)\n",
            "\u001b[K     |████████████████████████████████| 51kB 6.3MB/s \n",
            "\u001b[?25hCollecting hstspreload\n",
            "\u001b[?25l  Downloading https://files.pythonhosted.org/packages/64/38/c4fa6943e6e8e9d854f887631b99fdb1d209c615584169613c9970c7751d/hstspreload-2020.8.5-py3-none-any.whl (930kB)\n",
            "\u001b[K     |████████████████████████████████| 931kB 8.6MB/s \n",
            "\u001b[?25hCollecting contextvars>=2.1; python_version < \"3.7\"\n",
            "  Downloading https://files.pythonhosted.org/packages/83/96/55b82d9f13763be9d672622e1b8106c85acb83edd7cc2fa5bc67cd9877e9/contextvars-2.4.tar.gz\n",
            "Collecting h2==3.*\n",
            "\u001b[?25l  Downloading https://files.pythonhosted.org/packages/25/de/da019bcc539eeab02f6d45836f23858ac467f584bfec7a526ef200242afe/h2-3.2.0-py2.py3-none-any.whl (65kB)\n",
            "\u001b[K     |████████████████████████████████| 71kB 7.8MB/s \n",
            "\u001b[?25hCollecting h11<0.10,>=0.8\n",
            "\u001b[?25l  Downloading https://files.pythonhosted.org/packages/5a/fd/3dad730b0f95e78aeeb742f96fa7bbecbdd56a58e405d3da440d5bfb90c6/h11-0.9.0-py2.py3-none-any.whl (53kB)\n",
            "\u001b[K     |████████████████████████████████| 61kB 7.7MB/s \n",
            "\u001b[?25hCollecting immutables>=0.9\n",
            "\u001b[?25l  Downloading https://files.pythonhosted.org/packages/99/e0/ea6fd4697120327d26773b5a84853f897a68e33d3f9376b00a8ff96e4f63/immutables-0.14-cp36-cp36m-manylinux1_x86_64.whl (98kB)\n",
            "\u001b[K     |████████████████████████████████| 102kB 10.6MB/s \n",
            "\u001b[?25hCollecting hyperframe<6,>=5.2.0\n",
            "  Downloading https://files.pythonhosted.org/packages/19/0c/bf88182bcb5dce3094e2f3e4fe20db28a9928cb7bd5b08024030e4b140db/hyperframe-5.2.0-py2.py3-none-any.whl\n",
            "Collecting hpack<4,>=3.0\n",
            "  Downloading https://files.pythonhosted.org/packages/8a/cc/e53517f4a1e13f74776ca93271caef378dadec14d71c61c949d759d3db69/hpack-3.0.0-py2.py3-none-any.whl\n",
            "Building wheels for collected packages: googletrans, contextvars\n",
            "  Building wheel for googletrans (setup.py) ... \u001b[?25l\u001b[?25hdone\n",
            "  Created wheel for googletrans: filename=googletrans-3.0.0-cp36-none-any.whl size=15736 sha256=01cb8503ecb247d4cb68f5329ce854835ecac407f32451cbe78c142bbc3f57a4\n",
            "  Stored in directory: /root/.cache/pip/wheels/28/1a/a7/eaf4d7a3417a0c65796c547cff4deb6d79c7d14c2abd29273e\n",
            "  Building wheel for contextvars (setup.py) ... \u001b[?25l\u001b[?25hdone\n",
            "  Created wheel for contextvars: filename=contextvars-2.4-cp36-none-any.whl size=7666 sha256=59cd0c18e1c3ec6ec49826a77374a9f3b5a88a5d26d2b994eb9dca6bde926fa1\n",
            "  Stored in directory: /root/.cache/pip/wheels/a5/7d/68/1ebae2668bda2228686e3c1cf16f2c2384cea6e9334ad5f6de\n",
            "Successfully built googletrans contextvars\n",
            "Installing collected packages: rfc3986, immutables, contextvars, sniffio, hyperframe, hpack, h2, h11, httpcore, hstspreload, httpx, googletrans\n",
            "Successfully installed contextvars-2.4 googletrans-3.0.0 h11-0.9.0 h2-3.2.0 hpack-3.0.0 hstspreload-2020.8.5 httpcore-0.9.1 httpx-0.13.3 hyperframe-5.2.0 immutables-0.14 rfc3986-1.4.0 sniffio-1.1.0\n"
          ],
          "name": "stdout"
        }
      ]
    },
    {
      "cell_type": "code",
      "metadata": {
        "id": "X_g-QIXrwJRj",
        "colab_type": "code",
        "colab": {}
      },
      "source": [
        "import pandas as pd\n",
        "import googletrans\n",
        "from translate import Translator"
      ],
      "execution_count": 9,
      "outputs": []
    },
    {
      "cell_type": "code",
      "metadata": {
        "id": "n7lKelwPxKPo",
        "colab_type": "code",
        "colab": {
          "base_uri": "https://localhost:8080/",
          "height": 535
        },
        "outputId": "627df580-94d7-4c0d-c6ba-0ffd931d8fab"
      },
      "source": [
        "df = pd.read_csv('MariaCespedesc1290657735005081600.tsv',sep='\\t')\n",
        "df.head(10)"
      ],
      "execution_count": 10,
      "outputs": [
        {
          "output_type": "execute_result",
          "data": {
            "text/html": [
              "<div>\n",
              "<style scoped>\n",
              "    .dataframe tbody tr th:only-of-type {\n",
              "        vertical-align: middle;\n",
              "    }\n",
              "\n",
              "    .dataframe tbody tr th {\n",
              "        vertical-align: top;\n",
              "    }\n",
              "\n",
              "    .dataframe thead th {\n",
              "        text-align: right;\n",
              "    }\n",
              "</style>\n",
              "<table border=\"1\" class=\"dataframe\">\n",
              "  <thead>\n",
              "    <tr style=\"text-align: right;\">\n",
              "      <th></th>\n",
              "      <th>user-id</th>\n",
              "      <th>text</th>\n",
              "      <th>topic</th>\n",
              "      <th>thread-id</th>\n",
              "      <th>time</th>\n",
              "      <th>post-id</th>\n",
              "      <th>replyTo</th>\n",
              "      <th>replyBy</th>\n",
              "    </tr>\n",
              "  </thead>\n",
              "  <tbody>\n",
              "    <tr>\n",
              "      <th>0</th>\n",
              "      <td>MariaCespedesc</td>\n",
              "      <td>#VotoDeConfianza La @FrepapBancada consecuente...</td>\n",
              "      <td>Cuestion-de-confianza</td>\n",
              "      <td>1</td>\n",
              "      <td>2020-08-04 14:35:57</td>\n",
              "      <td>1290657735005081600</td>\n",
              "      <td>NaN</td>\n",
              "      <td>MariaCespedesc</td>\n",
              "    </tr>\n",
              "    <tr>\n",
              "      <th>1</th>\n",
              "      <td>TEXRA2</td>\n",
              "      <td>Después de decepcionar al país dando el voto ...</td>\n",
              "      <td>Cuestion-de-confianza</td>\n",
              "      <td>1</td>\n",
              "      <td>2020-08-05 16:58:39</td>\n",
              "      <td>1291056034081959937</td>\n",
              "      <td>MariaCespedesc</td>\n",
              "      <td>TEXRA2</td>\n",
              "    </tr>\n",
              "    <tr>\n",
              "      <th>2</th>\n",
              "      <td>TEXRA2</td>\n",
              "      <td>Que la red criminal los mermeleros , que tien...</td>\n",
              "      <td>Cuestion-de-confianza</td>\n",
              "      <td>1</td>\n",
              "      <td>2020-08-05 16:53:52</td>\n",
              "      <td>1291054828198731777</td>\n",
              "      <td>MariaCespedesc</td>\n",
              "      <td>TEXRA2</td>\n",
              "    </tr>\n",
              "    <tr>\n",
              "      <th>3</th>\n",
              "      <td>vivefash</td>\n",
              "      <td>Que Dios y sus conciencias y el pueblo los ju...</td>\n",
              "      <td>Cuestion-de-confianza</td>\n",
              "      <td>1</td>\n",
              "      <td>2020-08-05 14:29:13</td>\n",
              "      <td>1291018425456889858</td>\n",
              "      <td>MariaCespedesc</td>\n",
              "      <td>vivefash</td>\n",
              "    </tr>\n",
              "    <tr>\n",
              "      <th>4</th>\n",
              "      <td>Jose99092853</td>\n",
              "      <td>Hasta el momento él FREPAP está dando la hora...</td>\n",
              "      <td>Cuestion-de-confianza</td>\n",
              "      <td>1</td>\n",
              "      <td>2020-08-05 13:03:15</td>\n",
              "      <td>1290996791618437120</td>\n",
              "      <td>MariaCespedesc</td>\n",
              "      <td>Jose99092853</td>\n",
              "    </tr>\n",
              "    <tr>\n",
              "      <th>5</th>\n",
              "      <td>Barbayerba</td>\n",
              "      <td>Que pena que se unieron a lo peor del congres...</td>\n",
              "      <td>Cuestion-de-confianza</td>\n",
              "      <td>1</td>\n",
              "      <td>2020-08-05 12:21:50</td>\n",
              "      <td>1290986371419643904</td>\n",
              "      <td>MariaCespedesc</td>\n",
              "      <td>Barbayerba</td>\n",
              "    </tr>\n",
              "    <tr>\n",
              "      <th>6</th>\n",
              "      <td>RossaFlor1</td>\n",
              "      <td>¿Representando al pueblo peruano? Si fuera as...</td>\n",
              "      <td>Cuestion-de-confianza</td>\n",
              "      <td>1</td>\n",
              "      <td>2020-08-05 12:10:24</td>\n",
              "      <td>1290983490293506050</td>\n",
              "      <td>MariaCespedesc</td>\n",
              "      <td>RossaFlor1</td>\n",
              "    </tr>\n",
              "    <tr>\n",
              "      <th>7</th>\n",
              "      <td>Yosoyelkarma2</td>\n",
              "      <td>No sra. de ninguna manera ud. puede decir REP...</td>\n",
              "      <td>Cuestion-de-confianza</td>\n",
              "      <td>1</td>\n",
              "      <td>2020-08-05 11:44:41</td>\n",
              "      <td>1290977021259112448</td>\n",
              "      <td>MariaCespedesc</td>\n",
              "      <td>Yosoyelkarma2</td>\n",
              "    </tr>\n",
              "    <tr>\n",
              "      <th>8</th>\n",
              "      <td>BorgRoch</td>\n",
              "      <td>Ya fueron, señora.</td>\n",
              "      <td>Cuestion-de-confianza</td>\n",
              "      <td>1</td>\n",
              "      <td>2020-08-05 11:26:44</td>\n",
              "      <td>1290972503549054977</td>\n",
              "      <td>MariaCespedesc</td>\n",
              "      <td>BorgRoch</td>\n",
              "    </tr>\n",
              "    <tr>\n",
              "      <th>9</th>\n",
              "      <td>ARREGLARELPERU</td>\n",
              "      <td>SOLO CON HONESTOS ARREGLAMOS EL PERU</td>\n",
              "      <td>Cuestion-de-confianza</td>\n",
              "      <td>1</td>\n",
              "      <td>2020-08-05 10:29:00</td>\n",
              "      <td>1290957971963498503</td>\n",
              "      <td>MariaCespedesc</td>\n",
              "      <td>ARREGLARELPERU</td>\n",
              "    </tr>\n",
              "  </tbody>\n",
              "</table>\n",
              "</div>"
            ],
            "text/plain": [
              "          user-id  ...         replyBy\n",
              "0  MariaCespedesc  ...  MariaCespedesc\n",
              "1          TEXRA2  ...          TEXRA2\n",
              "2          TEXRA2  ...          TEXRA2\n",
              "3        vivefash  ...        vivefash\n",
              "4    Jose99092853  ...    Jose99092853\n",
              "5      Barbayerba  ...      Barbayerba\n",
              "6      RossaFlor1  ...      RossaFlor1\n",
              "7   Yosoyelkarma2  ...   Yosoyelkarma2\n",
              "8        BorgRoch  ...        BorgRoch\n",
              "9  ARREGLARELPERU  ...  ARREGLARELPERU\n",
              "\n",
              "[10 rows x 8 columns]"
            ]
          },
          "metadata": {
            "tags": []
          },
          "execution_count": 10
        }
      ]
    },
    {
      "cell_type": "code",
      "metadata": {
        "id": "DbcwMjpaxd4y",
        "colab_type": "code",
        "colab": {
          "base_uri": "https://localhost:8080/",
          "height": 1000
        },
        "outputId": "833e7b49-6931-4270-bc2a-e1ed517744e0"
      },
      "source": [
        "translator = Translator(provider='mymemory', from_lang='es' ,to_lang='en')\n",
        "translations = {}\n",
        "unique_elements = df['text'].unique()\n",
        "for element in unique_elements:\n",
        "    # Adding all the translations to a dictionary (translations)\n",
        "    translations[element] = translator.translate(element)\n",
        "translations"
      ],
      "execution_count": 11,
      "outputs": [
        {
          "output_type": "execute_result",
          "data": {
            "text/plain": [
              "{'  A cuantos representas para hablar por todos?': 'MYMEMORY WARNING: YOU USED ALL AVAILABLE FREE TRANSLATIONS FOR TODAY. NEXT AVAILABLE IN  04 HOURS 41 MINUTES 51 SECONDSVISIT HTTPS://MYMEMORY.TRANSLATED.NET/DOC/USAGELIMITS.PHP TO TRANSLATE MORE',\n",
              " '  Aburres rojo gil': 'Gil red boring',\n",
              " '  Así bien por ti,. Dos trabajos y en pandemia': 'MYMEMORY WARNING: YOU USED ALL AVAILABLE FREE TRANSLATIONS FOR TODAY. NEXT AVAILABLE IN  04 HOURS 41 MINUTES 51 SECONDSVISIT HTTPS://MYMEMORY.TRANSLATED.NET/DOC/USAGELIMITS.PHP TO TRANSLATE MORE',\n",
              " '  Calla cojudo de mierda.': 'MYMEMORY WARNING: YOU USED ALL AVAILABLE FREE TRANSLATIONS FOR TODAY. NEXT AVAILABLE IN  04 HOURS 41 MINUTES 53 SECONDSVISIT HTTPS://MYMEMORY.TRANSLATED.NET/DOC/USAGELIMITS.PHP TO TRANSLATE MORE',\n",
              " '  En Odebrecht y GYM.': 'MYMEMORY WARNING: YOU USED ALL AVAILABLE FREE TRANSLATIONS FOR TODAY. NEXT AVAILABLE IN  04 HOURS 41 MINUTES 53 SECONDSVISIT HTTPS://MYMEMORY.TRANSLATED.NET/DOC/USAGELIMITS.PHP TO TRANSLATE MORE',\n",
              " '  En donde trabajas?': 'MYMEMORY WARNING: YOU USED ALL AVAILABLE FREE TRANSLATIONS FOR TODAY. NEXT AVAILABLE IN  04 HOURS 41 MINUTES 51 SECONDSVISIT HTTPS://MYMEMORY.TRANSLATED.NET/DOC/USAGELIMITS.PHP TO TRANSLATE MORE',\n",
              " '  Escucha a tus congresistas entonces, a ver si encuentras soluciones en lugar de las quejas de siempre.': 'MYMEMORY WARNING: YOU USED ALL AVAILABLE FREE TRANSLATIONS FOR TODAY. NEXT AVAILABLE IN  04 HOURS 41 MINUTES 51 SECONDSVISIT HTTPS://MYMEMORY.TRANSLATED.NET/DOC/USAGELIMITS.PHP TO TRANSLATE MORE',\n",
              " '  Me siento representado por el FREPAP, ya que nunca corrumpí a ningun funcionario público. Los corruptos nomas no se sienten representados por el FREPAP.': 'MYMEMORY WARNING: YOU USED ALL AVAILABLE FREE TRANSLATIONS FOR TODAY. NEXT AVAILABLE IN  04 HOURS 41 MINUTES 51 SECONDSVISIT HTTPS://MYMEMORY.TRANSLATED.NET/DOC/USAGELIMITS.PHP TO TRANSLATE MORE',\n",
              " '  Muy aparte de toda estupideces que vocifera,  usted está al tanto de quienes son cada uno de los ministros y las denuncias que se vienen haciendo por su labor? Dice ser enemiga de la corrupción pero votar por corruptos en los ministerios no la contradice con lo que pregona?': 'MYMEMORY WARNING: YOU USED ALL AVAILABLE FREE TRANSLATIONS FOR TODAY. NEXT AVAILABLE IN  04 HOURS 41 MINUTES 52 SECONDSVISIT HTTPS://MYMEMORY.TRANSLATED.NET/DOC/USAGELIMITS.PHP TO TRANSLATE MORE',\n",
              " '  No hay que darle vida a las empresas privadas corruptas. Muerte civil para esas empresa.': 'MYMEMORY WARNING: YOU USED ALL AVAILABLE FREE TRANSLATIONS FOR TODAY. NEXT AVAILABLE IN  04 HOURS 41 MINUTES 53 SECONDSVISIT HTTPS://MYMEMORY.TRANSLATED.NET/DOC/USAGELIMITS.PHP TO TRANSLATE MORE',\n",
              " '  Ok tu escucha a cateriano y a la confíep haber a quien le va mejor 🤷\\u200d♂️': 'MYMEMORY WARNING: YOU USED ALL AVAILABLE FREE TRANSLATIONS FOR TODAY. NEXT AVAILABLE IN  04 HOURS 41 MINUTES 52 SECONDSVISIT HTTPS://MYMEMORY.TRANSLATED.NET/DOC/USAGELIMITS.PHP TO TRANSLATE MORE',\n",
              " '  Rojo te dejaron el qlo cpp de vizcarra': 'MYMEMORY WARNING: YOU USED ALL AVAILABLE FREE TRANSLATIONS FOR TODAY. NEXT AVAILABLE IN  04 HOURS 41 MINUTES 52 SECONDSVISIT HTTPS://MYMEMORY.TRANSLATED.NET/DOC/USAGELIMITS.PHP TO TRANSLATE MORE',\n",
              " '  Y como reactivas al país  si no tienes proyectos,  de donde o tienes fondos para lo más duro que esta por venir?': 'MYMEMORY WARNING: YOU USED ALL AVAILABLE FREE TRANSLATIONS FOR TODAY. NEXT AVAILABLE IN  04 HOURS 41 MINUTES 53 SECONDSVISIT HTTPS://MYMEMORY.TRANSLATED.NET/DOC/USAGELIMITS.PHP TO TRANSLATE MORE',\n",
              " '  Y quienes son los tontos útiles de la confiep representado por @PCaterianoB ?': 'MYMEMORY WARNING: YOU USED ALL AVAILABLE FREE TRANSLATIONS FOR TODAY. NEXT AVAILABLE IN  04 HOURS 41 MINUTES 52 SECONDSVISIT HTTPS://MYMEMORY.TRANSLATED.NET/DOC/USAGELIMITS.PHP TO TRANSLATE MORE',\n",
              " '  Y x q no asumen las carteras de cada ministerio, los VICEMINISTROS 😏': 'MYMEMORY WARNING: YOU USED ALL AVAILABLE FREE TRANSLATIONS FOR TODAY. NEXT AVAILABLE IN  04 HOURS 41 MINUTES 50 SECONDSVISIT HTTPS://MYMEMORY.TRANSLATED.NET/DOC/USAGELIMITS.PHP TO TRANSLATE MORE',\n",
              " '  Yo soy de la ONP y de un inicio sabia como funcionaba🙋🏻\\u200d♂️, el dinero se distribuye no se junta ni es acumulado, si van a devolver van a subir los impuestos eso hasta un niño de primaria lo sabe, perdón creo q este partido ni primaria tiene \\U0001f92d': 'MYMEMORY WARNING: YOU USED ALL AVAILABLE FREE TRANSLATIONS FOR TODAY. NEXT AVAILABLE IN  04 HOURS 41 MINUTES 52 SECONDSVISIT HTTPS://MYMEMORY.TRANSLATED.NET/DOC/USAGELIMITS.PHP TO TRANSLATE MORE',\n",
              " ' A pulso se están ganando mi voto': 'They are earning my vote',\n",
              " ' AYER en su discurso Parecía un gobierno, y recién mencionó qe iba a ver  a los pobladores del Espinar, después de 25 días de lo sucedido. ADMIRÓ a la MINERÍA como si fuera el único medio de recurso.': 'YESTERDAY in his speech It seemed like a government, and he just mentioned that he was going to see the people of Espinar, 25 days after what happened. He ADMIRED MINING as if it were the only means of recourse.',\n",
              " ' Ahora quitemos la publicidad a los medios!!! No mas mermelada': 'Now let&#39;s remove advertising from the media! No more jam',\n",
              " ' Ajustado a la realidad???... Aceptalo uds fueron los tontos útiles de mafiosos cómo Luna, Alarcon y Urresti!!!... Si hubo alguna esperanza de q uds fueran la, Reserva Moral, cuerda y sensata q el Perú necesita... Ya fué ... Nos Decepcionaron!!!': 'Adjusted to reality ??? ... Accept it, you were the useful idiots of gangsters like Luna, Alarcon and Urresti !!! ... If there was any hope that you were the, Moral Reserve, sane and sensible that Peru needs ... It was already ... We were disappointed !!!',\n",
              " ' Así que el pueblo peruano pidió tener una crisis política, dejarnos sin ministros.... En fin.': 'So the Peruvian people asked to have a political crisis, to leave us without ministers .... Anyway.',\n",
              " ' Bien 👍👍': 'Good 👍👍',\n",
              " ' Bueno veremos en las elecciones  del próximo año los temas de delincuencia  siguen esperando cada hora que pasa se mueren 30 personas y sigue subiendo https://t.co/ErX8Kwe6me': 'Well we will see in next year&#39;s elections the crime issues are still waiting every hour that passes 30 people die and it continues to rise https://t.co/ErX8Kwe6me',\n",
              " ' De que pueblo hablas pescadito? Del pueblo de Jerusalen??? Porque el pueblo de,Perusalen no voto por uds ni para desinfectar calles. En que país viven??': 'What town are you talking about, little fish? From the people of Jerusalem ??? Because the people of Perusalen do not vote for you or to disinfect streets. What country do you live in??',\n",
              " ' Despidanse del congreso, @FrepapBancada  no volverá el 2021.': 'Say goodbye to the congress, @FrepapBancada will not return in 2021.',\n",
              " ' Después de decepcionar al país dando el voto de confianza al gabinete zevallos, esta vez se reivindicaron,  tomaron conciencia de la realidad del país...': 'After disappointing the country by giving the vote of confidence to the Zevallos cabinet, this time they vindicated themselves, they became aware of the reality of the country ...',\n",
              " ' ES UN ANTITRABAJADORES Y MUY CERCACO A LAS GRANDES EMPRESAS Y ahora actualmente se NEGÓ en DIALOGAR con los PROTESTANTES del ESPINAR CUSCO donde los POLICÍAS DISPARARON a QUEMARROPA  hay 2 MUERTES  de sus dirigentes qe ENCABEZABAN y la población reclaman investigación profunda.': 'HE IS AN ANTI-WORKERS AND VERY CLOSE TO THE LARGE COMPANIES AND now he currently REFUSED in DIALOGUE with the PROTESTANTS of ESPINAR CUSCO where the POLICE FIRED at SQUARE, there are 2 DEATHS of their leaders who LEADED and the population demands a deep investigation.',\n",
              " ' El FREPAP hoy no representa a nadie. Lo bueno de todo esto es que ya sabemos cómo son todos estos partidos políticos, así que ha tenerlo en cuenta al momento de las elecciones.': 'FREPAP today does not represent anyone. The good thing about all this is that we already know what all these political parties are like, so it has to be taken into account at the time of the elections.',\n",
              " ' En serio? Antes de hablar burradas deberías informarte... Quien te a contado el cuento de que las mineras pagan más impuestos? Cual es tu fuente?\"': 'MYMEMORY WARNING: YOU USED ALL AVAILABLE FREE TRANSLATIONS FOR TODAY. NEXT AVAILABLE IN  04 HOURS 41 MINUTES 54 SECONDSVISIT HTTPS://MYMEMORY.TRANSLATED.NET/DOC/USAGELIMITS.PHP TO TRANSLATE MORE',\n",
              " ' Es necesario felicitar vuestro esfuerzo y trabajo. Ahora que los grados y títulos académicos están colgados sin valor y  trascendencia, ustedes han representado el clamor del pueblo. No se diga más. Felicitaciones!': 'It is necessary to congratulate your effort and work. Now that academic degrees and titles are hanging without value and significance, you have represented the cry of the people. Not to mention more. Congratulations!',\n",
              " ' Es verdad q quieren vacar al pte y se estan coludiendo para q Merino asuma la presidencia?': 'Is it true that they want to vacate the pte and are colluding for Merino to assume the presidency?',\n",
              " ' Estaban trabajando bien, pero negar la confianza a un gabinete que empieza su gestión en plena pandemia es criminal 👎': 'They were working well, but denying trust to a cabinet that begins its term in the midst of a pandemic is criminal 👎',\n",
              " ' Estimada congresista de FREPAP, ya es hora de que fiscalicen a @IndecopiOficial, ya que hay muchos vicios en el proceso concursal de Universitario a favor de Gremco. Imaginese si hacen eso con un club popular, que no harán con pequeñas empresas o con los consumidores?.': 'Dear FREPAP congressman, it is time for them to prosecute @IndecopiOficial, since there are many vices in the University bankruptcy process in favor of Gremco. Imagine if they do that with a popular club, what will they do with small businesses or consumers?',\n",
              " ' Felicitaciones congresista es bueno ser consecuente, este gabinete no merecía el voto de confianza. Apoyo su coraje 👏🏻👏🏻👏🏻': 'Congratulations congressman, it is good to be consistent, this cabinet did not deserve the vote of confidence. I support your courage 👏🏻👏🏻👏🏻',\n",
              " ' Felicito el congreso👏👏Pedro Cateriano Ni bien entró; mandó saludos cordiales porTwitter a keiko fujimori!! Tmb NO olvidemos en época de OLLANTA LLAMÓ de DELINCUENTES a los TRABAJADORES de AREQUIPA donde realizaban PROTESTA PACÍFICA en RECLAMO de un DERECHO JUSTO.': 'I congratulate the congress👏👏Pedro Cateriano As soon as he entered; sent cordial greetings on Twitter to keiko fujimori !! Tmb Let&#39;s not forget at the time of OLLANTA CALLED the WORKERS of AREQUIPA as OFFENDERS where they carried out PEACEFUL PROTEST in CLAIM for a JUST RIGHT.',\n",
              " ' Fuera chantajistas.  Nivel fujiapristas.': 'Blackmailers out. Fujiapristas level.',\n",
              " ' Hasta el momento él FREPAP está dando la hora. Sigan así': 'So far he FREPAP is telling the time. Keep in that way',\n",
              " ' INIMPUTABLES !!No saben NADA de políticas públicas!!Seguro tienen de asesores a la miasma corrupta disuelta!!Vayan a pastar ovejas...': 'UNIMPUTABLE !! They don&#39;t know ANYTHING about public policies !! They sure have advisers to the corrupt miasma dissolved !! Go graze sheep ...',\n",
              " ' LA MINERIA OCASIONA MUCHOS DAÑOS al  MEDIO  AMBIENTE Y A LA HUMANIDAD como mercurio en sangra, cáncer, etc.. (ni este EPIDÉMICA lo hace REFLEXIONAR) EL PERU ES TAN RICO COMO EN AGRICULTURA, GANADERIA Y PESQUERIA. Y porque no se explotan estos últimos recursos': 'MINING CAUSES A LOT OF DAMAGE TO THE ENVIRONMENT AND TO HUMANITY such as mercury in bleeds, cancer, etc. (nor does this EPIDEMIC make you REFLECT) PERU IS AS RICH AS IN AGRICULTURE, LIVESTOCK AND FISHERIES. And because these last resources are not exploited',\n",
              " ' La pregunta del millón usted trabaja en empresa pública o privada?... sin inversión del privado no se avanza!..toda la razón tiene UD señora, tontos útiles...dicen no a la mineria y es la que paga más impuestos, dicen no a la empresa privada cuando los formales son ellos.': 'The million dollar question, do you work in a public or private company? ... no progress is made without private investment! ... You are absolutely right, madam, useful fools ... they say no to mining and it is the one that pays the most taxes, they say no to private companies when they are the formal ones.',\n",
              " ' Les apoye pero no estoy deacuerdo con sus actutudes y sus decisiones espero que lean bien la realidad y la constitución y no hablen lo que esos politicos que ya estamos cansados de escuchar y no sigan el juego.': 'I support them but I do not agree with their attitudes and their decisions. I hope they read reality and the constitution well and do not speak what those politicians who are already tired of hearing and do not follow the game.',\n",
              " ' Muchos ya no votaran por esta izquierda coludida con intereses de universidades bambas e intereses subalternos .': 'Many will no longer vote for this left in collusion with the interests of the Bambas universities and subordinate interests.',\n",
              " ' Muy bien señores del Frepap.': 'Very good gentlemen of the Frepap.',\n",
              " ' No se dan cuenta que fueron los tontos útiles de los representantes de la universidades bamba.': 'They do not realize that they were the useful fools of the representatives of the Bamba universities.',\n",
              " ' No sra. de ninguna manera ud. puede decir REPRESETANDO AL PUEBLO PERUANO!Ël pueblo peruano NO QUIERE QUE EL PAIS SE PARALICE, el pueblo peruano quiere que se continue con la lucha de la PANDEMIA no que se saque a la ministra. #IrresponsablesAventureros': 'No ms. in no way you. You can say REPRESENTING THE PERUVIAN PEOPLE! The Peruvian people DO NOT WANT THE COUNTRY TO STOP, the Peruvian people want to continue with the PANDEMIC struggle, not to remove the minister. #IrresponsibleAdventurers',\n",
              " ' Nunca más Frepap. Qué vergüenza, total qué se podía esperar de un partido teocrático que cree en su Dios Ataicusi, jamás entenderán razones y evidencia. Haber si lee un poco y deja de vociferar cada vez que habla como los fundamentalistas que son. Nunca más Frepap.': 'Never again Frepap. What a shame, what could be expected of a theocratic party that believes in its God Ataicusi, they will never understand reasons and evidence. Have if you read a little and stop yelling every time you talk like the fundamentalists that they are. Never again Frepap.',\n",
              " ' Perdón??? Uds solo representan a sus fanáticos y a los imbéciles q votaron despreciando a los demás partidos, uds no representan al pueblo, no me siento representado por fanáticos': 'Sorry??? You only represent your fans and the idiots who voted, despising the other parties, you do not represent the people, I do not feel represented by fans',\n",
              " ' Pobres diablos se prestaron al juego de los mafiosos dueños de universidades truchos..y no digan que no sabían ineptos @MariaCespedesc': 'Poor devils lent themselves to the game of gangsters who own tricky universities ... and don&#39;t say they didn&#39;t know they were inept @MariaCespedesc',\n",
              " ' Que Dios y sus conciencias y el pueblo los juzguen.': 'May God and your consciences and the people judge you.',\n",
              " ' Que la red criminal los mermeleros , que tiene como cabecillas @alvarezrodrich y @rmapalacios no te engañen... esta es la verdad de por qué se negó el voto de confianza. https://t.co/P9eiiapmeb https://t.co/hfvhdKJG9Y': 'That the criminal network los mermeleros, whose leaders are @alvarezrodrich and @rmapalacios, do not deceive you ... this is the truth of why the vote of confidence was denied. https://t.co/P9eiiapmeb https://t.co/hfvhdKJG9Y',\n",
              " ' Que pena que se unieron a lo peor del congreso en este momento tan difícil.': 'Too bad they joined the worst of the congress at this difficult time.',\n",
              " ' SOLO CON HONESTOS ARREGLAMOS EL PERU': 'ONLY WITH HONEST WE FIX PERU',\n",
              " ' Señorq Congresista el pueblo peruano la felicita, pero también le pedimos que nos apoye con la insistencia del proyecto de ley 4453 y otros , por favor no nos den la espalda como lo hizo el señor Ejecutivo, #CasNuncaMasEnEssalud, CAS a 728, por un trabajo digno y justo.': 'Mr.Q Congressman, the Peruvian people congratulate you, but we also ask you to support us with the insistence of bill 4453 and others, please do not turn your back on us as did the Executive, #CasNuncaMasEnEssalud, CAS 728, for a job dignified and fair.',\n",
              " ' Si estaban dudando en su voto por lo menos absténganse ESTÁN EN EL MISMO SACO Q LOS PARTIDOS CORRUPTOS': 'If you were doubting your vote at least abstain THEY ARE IN THE SAME BAG Q THE CORRUPT PARTIES',\n",
              " ' Sigan así, pronto desaparecerán del mapa político y nunca olviden el papel de tontos útiles que hacen día a dia.': 'Keep it up, you will soon disappear from the political map and never forget the role of useful fools that you play every day.',\n",
              " ' Sirvieron a los intereses d los sinvergüenzas \\U0001f92e\\U0001f92c🐀. Ya fueron .': 'They served the interests of the scoundrels \\U0001f92e\\U0001f92c🐀. They already went .',\n",
              " ' Sra. Congresista se ha enterado que estamos en una pandemia?. Sabe que al recomponer un gabinete tomará aprox 15 dias que los Ministerios retomen sus funciones con normalidad?. Esa es la realidad y mientrás tanto qué?': 'Ms. Congressman, have you heard that we are in a pandemic? Do you know that when rebuilding a cabinet, it will take approximately 15 days for the Ministries to resume their functions normally? That is the reality and while both what?',\n",
              " ' Sus buenas intenciones no bastan, no están transan do con gente honesta, están en medio de pillos ladrones y extorcionadores entienda el contexto en el que se maneja o de un paso al costado a sumergido al país en una crisis mire lo que provoca https://t.co/Ust6inibMB': 'Their good intentions are not enough, they are not dealing with honest people, they are in the midst of rogue thieves and extortionists, understand the context in which they operate or from a step aside to submerge the country in a crisis, look at what it causes https: / /t.co/Ust6inibMB',\n",
              " ' Sí es verdad los peruanos necesitamos cambios y ayuda rápida en estos momentos y no seguir esperando demasiado tiempo la ayuda': 'Yes it is true, Peruvians need changes and quick help at this time and not keep waiting too long for help',\n",
              " ' Tira de ignorantes, no piensan que el.único perjudicado es el pueblo. Dios líbranos de esta plaga. Felizmente les queda menos de un año. Lárguense ya...': 'They are ignorant, they do not think that the only one harmed is the people. God save us from this plague. Happily they have less than a year left. Get out of here ...',\n",
              " ' Totalmente de acuerdo. Y una de las realidades concreta es la indiferencia, el menosprecio, la burla del Ejecutivo hacia  los hermanos aportantes de la ONP, que exigen justicia.Sres(as). congresistas sigan demostrando que ustedes sí luchan por el pueblo.': 'Totally agree. And one of the concrete realities is the indifference, the contempt, the mockery of the Executive towards the contributing brothers of the ONP, who demand justice. congressmen continue to show that you do fight for the people.',\n",
              " ' Traidores.No les importó que el pueblo está enfermando. Aquí se despiden, bye': 'Traitors. They did not care that the town is getting sick. Here they say goodbye, bye',\n",
              " ' Ud será flor de otoño nada más al igual q su partido, su inexperiencia en política le pasara factura al país.': 'You will be an autumn flower just like your party, your inexperience in politics will take its toll on the country.',\n",
              " ' Ustedes deberían haberse quedado dando diezmo. https://t.co/IpA577l6xg': 'You should have stayed tithing. https://t.co/IpA577l6xg',\n",
              " ' Y mientras tanto qué, nos sentamos a esperar la recomposición del gabinete. Les guste a o no la minería es el sector econ que + recursos genera, directa e indirect que se inyectan al PBI. Es función de uds congres legislar para que la distrib de esos recursos lleguen a todos.': 'And meanwhile what, we sat down to wait for the cabinet&#39;s recomposition. Whether you like it or not, mining is the economic sector that generates resources, directly and indirectly, that are injected into GDP. It is the function of you congress to legislate so that the distribution of these resources reaches everyone.',\n",
              " ' Y si es un gabinete parecido , seguirán vetándolo hasta el infinito.? Y así, se podrá hacer algo en contra de la pandemia, seguiremos perdiendo tiempo , cuánto más ?': 'And if it is a similar cabinet, they will continue to veto it to infinity. And so, something can be done against the pandemic, we will continue to lose time, how much more?',\n",
              " ' Ya fueron, señora.': 'They already went, ma&#39;am.',\n",
              " ' bien hecho': 'well done',\n",
              " ' ¿Representando al pueblo peruano? Si fuera así, habría dado el voto de confianza.¿Ustedes son parte de la mafia del Congreso que negoció la salida del Ministro de educación o sólo fueron los tontos útiles...?': 'Representing the Peruvian people? If so, I would have given the vote of confidence. Are you part of the congressional mafia that negotiated the departure of the Minister of Education or were you just useful fools ...?',\n",
              " ' ¿Y usted que opina de la SUNEDU? Sigo esperando su respuesta.': 'And what do you think of SUNEDU? I&#39;m still waiting for your answer.',\n",
              " '#VotoDeConfianza La @FrepapBancada consecuente con su discurso, votó en contra del Voto de Confianza al… https://t.co/U5ZLFxIban': '#VotoDeConfianza The @FrepapBancada, consistent with her speech, voted against the Vote of Confidence at… https://t.co/U5ZLFxIban'}"
            ]
          },
          "metadata": {
            "tags": []
          },
          "execution_count": 11
        }
      ]
    },
    {
      "cell_type": "code",
      "metadata": {
        "id": "e0427Agh_nBc",
        "colab_type": "code",
        "colab": {
          "base_uri": "https://localhost:8080/",
          "height": 535
        },
        "outputId": "73a23c0e-5717-4619-b337-5ededd545d1e"
      },
      "source": [
        "df.replace(translations, inplace = True)\n",
        "df.head(10)"
      ],
      "execution_count": 12,
      "outputs": [
        {
          "output_type": "execute_result",
          "data": {
            "text/html": [
              "<div>\n",
              "<style scoped>\n",
              "    .dataframe tbody tr th:only-of-type {\n",
              "        vertical-align: middle;\n",
              "    }\n",
              "\n",
              "    .dataframe tbody tr th {\n",
              "        vertical-align: top;\n",
              "    }\n",
              "\n",
              "    .dataframe thead th {\n",
              "        text-align: right;\n",
              "    }\n",
              "</style>\n",
              "<table border=\"1\" class=\"dataframe\">\n",
              "  <thead>\n",
              "    <tr style=\"text-align: right;\">\n",
              "      <th></th>\n",
              "      <th>user-id</th>\n",
              "      <th>text</th>\n",
              "      <th>topic</th>\n",
              "      <th>thread-id</th>\n",
              "      <th>time</th>\n",
              "      <th>post-id</th>\n",
              "      <th>replyTo</th>\n",
              "      <th>replyBy</th>\n",
              "    </tr>\n",
              "  </thead>\n",
              "  <tbody>\n",
              "    <tr>\n",
              "      <th>0</th>\n",
              "      <td>MariaCespedesc</td>\n",
              "      <td>#VotoDeConfianza The @FrepapBancada, consisten...</td>\n",
              "      <td>Cuestion-de-confianza</td>\n",
              "      <td>1</td>\n",
              "      <td>2020-08-04 14:35:57</td>\n",
              "      <td>1290657735005081600</td>\n",
              "      <td>NaN</td>\n",
              "      <td>MariaCespedesc</td>\n",
              "    </tr>\n",
              "    <tr>\n",
              "      <th>1</th>\n",
              "      <td>TEXRA2</td>\n",
              "      <td>After disappointing the country by giving the ...</td>\n",
              "      <td>Cuestion-de-confianza</td>\n",
              "      <td>1</td>\n",
              "      <td>2020-08-05 16:58:39</td>\n",
              "      <td>1291056034081959937</td>\n",
              "      <td>MariaCespedesc</td>\n",
              "      <td>TEXRA2</td>\n",
              "    </tr>\n",
              "    <tr>\n",
              "      <th>2</th>\n",
              "      <td>TEXRA2</td>\n",
              "      <td>That the criminal network los mermeleros, whos...</td>\n",
              "      <td>Cuestion-de-confianza</td>\n",
              "      <td>1</td>\n",
              "      <td>2020-08-05 16:53:52</td>\n",
              "      <td>1291054828198731777</td>\n",
              "      <td>MariaCespedesc</td>\n",
              "      <td>TEXRA2</td>\n",
              "    </tr>\n",
              "    <tr>\n",
              "      <th>3</th>\n",
              "      <td>vivefash</td>\n",
              "      <td>May God and your consciences and the people ju...</td>\n",
              "      <td>Cuestion-de-confianza</td>\n",
              "      <td>1</td>\n",
              "      <td>2020-08-05 14:29:13</td>\n",
              "      <td>1291018425456889858</td>\n",
              "      <td>MariaCespedesc</td>\n",
              "      <td>vivefash</td>\n",
              "    </tr>\n",
              "    <tr>\n",
              "      <th>4</th>\n",
              "      <td>Jose99092853</td>\n",
              "      <td>So far he FREPAP is telling the time. Keep in ...</td>\n",
              "      <td>Cuestion-de-confianza</td>\n",
              "      <td>1</td>\n",
              "      <td>2020-08-05 13:03:15</td>\n",
              "      <td>1290996791618437120</td>\n",
              "      <td>MariaCespedesc</td>\n",
              "      <td>Jose99092853</td>\n",
              "    </tr>\n",
              "    <tr>\n",
              "      <th>5</th>\n",
              "      <td>Barbayerba</td>\n",
              "      <td>Too bad they joined the worst of the congress ...</td>\n",
              "      <td>Cuestion-de-confianza</td>\n",
              "      <td>1</td>\n",
              "      <td>2020-08-05 12:21:50</td>\n",
              "      <td>1290986371419643904</td>\n",
              "      <td>MariaCespedesc</td>\n",
              "      <td>Barbayerba</td>\n",
              "    </tr>\n",
              "    <tr>\n",
              "      <th>6</th>\n",
              "      <td>RossaFlor1</td>\n",
              "      <td>Representing the Peruvian people? If so, I wou...</td>\n",
              "      <td>Cuestion-de-confianza</td>\n",
              "      <td>1</td>\n",
              "      <td>2020-08-05 12:10:24</td>\n",
              "      <td>1290983490293506050</td>\n",
              "      <td>MariaCespedesc</td>\n",
              "      <td>RossaFlor1</td>\n",
              "    </tr>\n",
              "    <tr>\n",
              "      <th>7</th>\n",
              "      <td>Yosoyelkarma2</td>\n",
              "      <td>No ms. in no way you. You can say REPRESENTING...</td>\n",
              "      <td>Cuestion-de-confianza</td>\n",
              "      <td>1</td>\n",
              "      <td>2020-08-05 11:44:41</td>\n",
              "      <td>1290977021259112448</td>\n",
              "      <td>MariaCespedesc</td>\n",
              "      <td>Yosoyelkarma2</td>\n",
              "    </tr>\n",
              "    <tr>\n",
              "      <th>8</th>\n",
              "      <td>BorgRoch</td>\n",
              "      <td>They already went, ma&amp;#39;am.</td>\n",
              "      <td>Cuestion-de-confianza</td>\n",
              "      <td>1</td>\n",
              "      <td>2020-08-05 11:26:44</td>\n",
              "      <td>1290972503549054977</td>\n",
              "      <td>MariaCespedesc</td>\n",
              "      <td>BorgRoch</td>\n",
              "    </tr>\n",
              "    <tr>\n",
              "      <th>9</th>\n",
              "      <td>ARREGLARELPERU</td>\n",
              "      <td>ONLY WITH HONEST WE FIX PERU</td>\n",
              "      <td>Cuestion-de-confianza</td>\n",
              "      <td>1</td>\n",
              "      <td>2020-08-05 10:29:00</td>\n",
              "      <td>1290957971963498503</td>\n",
              "      <td>MariaCespedesc</td>\n",
              "      <td>ARREGLARELPERU</td>\n",
              "    </tr>\n",
              "  </tbody>\n",
              "</table>\n",
              "</div>"
            ],
            "text/plain": [
              "          user-id  ...         replyBy\n",
              "0  MariaCespedesc  ...  MariaCespedesc\n",
              "1          TEXRA2  ...          TEXRA2\n",
              "2          TEXRA2  ...          TEXRA2\n",
              "3        vivefash  ...        vivefash\n",
              "4    Jose99092853  ...    Jose99092853\n",
              "5      Barbayerba  ...      Barbayerba\n",
              "6      RossaFlor1  ...      RossaFlor1\n",
              "7   Yosoyelkarma2  ...   Yosoyelkarma2\n",
              "8        BorgRoch  ...        BorgRoch\n",
              "9  ARREGLARELPERU  ...  ARREGLARELPERU\n",
              "\n",
              "[10 rows x 8 columns]"
            ]
          },
          "metadata": {
            "tags": []
          },
          "execution_count": 12
        }
      ]
    },
    {
      "cell_type": "code",
      "metadata": {
        "id": "uOrXOzBY_uR7",
        "colab_type": "code",
        "colab": {}
      },
      "source": [
        "df.to_csv ('output.csv', index = False, header=True)"
      ],
      "execution_count": 13,
      "outputs": []
    }
  ]
}